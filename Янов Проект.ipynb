{
 "cells": [
  {
   "cell_type": "markdown",
   "id": "189a3f2d",
   "metadata": {},
   "source": [
    "# Проект: Зарплаты в Сан-Франциско 2011-2020 гг."
   ]
  },
  {
   "cell_type": "markdown",
   "id": "dfdf50d0",
   "metadata": {},
   "source": [
    "# 0. Предобработка и агрегация данных"
   ]
  },
  {
   "cell_type": "markdown",
   "id": "3d84b7ce",
   "metadata": {},
   "source": [
    "Импортируем необходимые библиотеки для анализа и визуализации данных"
   ]
  },
  {
   "cell_type": "code",
   "execution_count": 3,
   "id": "f49bc659",
   "metadata": {},
   "outputs": [],
   "source": [
    "import pandas as pd\n",
    "import numpy as np\n",
    "import matplotlib.pyplot as plt\n",
    "import math as math_\n",
    "import matplotlib.ticker as ticker\n",
    "import seaborn as sns\n"
   ]
  },
  {
   "cell_type": "markdown",
   "id": "b40898aa",
   "metadata": {},
   "source": [
    "Считываем данные и конкатенируем с помощью метода pd.concat, обращаем внимание на ignore_index=True, для того чтобы не получить ошибку 'ValueError: cannot reindex from a duplicate axis' "
   ]
  },
  {
   "cell_type": "code",
   "execution_count": 5,
   "id": "f3a34d3f",
   "metadata": {},
   "outputs": [
    {
     "data": {
      "text/html": [
       "<div>\n",
       "<style scoped>\n",
       "    .dataframe tbody tr th:only-of-type {\n",
       "        vertical-align: middle;\n",
       "    }\n",
       "\n",
       "    .dataframe tbody tr th {\n",
       "        vertical-align: top;\n",
       "    }\n",
       "\n",
       "    .dataframe thead th {\n",
       "        text-align: right;\n",
       "    }\n",
       "</style>\n",
       "<table border=\"1\" class=\"dataframe\">\n",
       "  <thead>\n",
       "    <tr style=\"text-align: right;\">\n",
       "      <th></th>\n",
       "      <th>Employee Name</th>\n",
       "      <th>Job Title</th>\n",
       "      <th>Base Pay</th>\n",
       "      <th>Overtime Pay</th>\n",
       "      <th>Other Pay</th>\n",
       "      <th>Benefits</th>\n",
       "      <th>Total Pay</th>\n",
       "      <th>Total Pay &amp; Benefits</th>\n",
       "      <th>Year</th>\n",
       "      <th>Notes</th>\n",
       "      <th>Agency</th>\n",
       "      <th>Status</th>\n",
       "      <th>Pension Debt</th>\n",
       "    </tr>\n",
       "  </thead>\n",
       "  <tbody>\n",
       "    <tr>\n",
       "      <th>398350</th>\n",
       "      <td>Emiliano S Orencia III</td>\n",
       "      <td>Custodian</td>\n",
       "      <td>0.0</td>\n",
       "      <td>0.0</td>\n",
       "      <td>0.0</td>\n",
       "      <td>0.0</td>\n",
       "      <td>0.00</td>\n",
       "      <td>0.00</td>\n",
       "      <td>2020</td>\n",
       "      <td>NaN</td>\n",
       "      <td>San Francisco</td>\n",
       "      <td>NaN</td>\n",
       "      <td>0.0</td>\n",
       "    </tr>\n",
       "    <tr>\n",
       "      <th>398340</th>\n",
       "      <td>Jonathan Llamas</td>\n",
       "      <td>Swimming Instructor</td>\n",
       "      <td>23.73</td>\n",
       "      <td>0.0</td>\n",
       "      <td>0.0</td>\n",
       "      <td>0.0</td>\n",
       "      <td>23.73</td>\n",
       "      <td>23.73</td>\n",
       "      <td>2020</td>\n",
       "      <td>NaN</td>\n",
       "      <td>San Francisco</td>\n",
       "      <td>NaN</td>\n",
       "      <td>0.0</td>\n",
       "    </tr>\n",
       "    <tr>\n",
       "      <th>398330</th>\n",
       "      <td>Annette M Overby</td>\n",
       "      <td>Special Nurse</td>\n",
       "      <td>26.19</td>\n",
       "      <td>0.0</td>\n",
       "      <td>0.0</td>\n",
       "      <td>4.87</td>\n",
       "      <td>26.19</td>\n",
       "      <td>31.06</td>\n",
       "      <td>2020</td>\n",
       "      <td>NaN</td>\n",
       "      <td>San Francisco</td>\n",
       "      <td>NaN</td>\n",
       "      <td>0.0</td>\n",
       "    </tr>\n",
       "    <tr>\n",
       "      <th>398320</th>\n",
       "      <td>Flavio P Flaviani</td>\n",
       "      <td>Gardener</td>\n",
       "      <td>0.0</td>\n",
       "      <td>0.0</td>\n",
       "      <td>0.0</td>\n",
       "      <td>41.82</td>\n",
       "      <td>0.00</td>\n",
       "      <td>41.82</td>\n",
       "      <td>2020</td>\n",
       "      <td>NaN</td>\n",
       "      <td>San Francisco</td>\n",
       "      <td>NaN</td>\n",
       "      <td>0.0</td>\n",
       "    </tr>\n",
       "    <tr>\n",
       "      <th>398310</th>\n",
       "      <td>Joseph A Veronese</td>\n",
       "      <td>Bdcomm Mbr, Grp5,M$100/Mo</td>\n",
       "      <td>46.15</td>\n",
       "      <td>0.0</td>\n",
       "      <td>0.0</td>\n",
       "      <td>0.0</td>\n",
       "      <td>46.15</td>\n",
       "      <td>46.15</td>\n",
       "      <td>2020</td>\n",
       "      <td>NaN</td>\n",
       "      <td>San Francisco</td>\n",
       "      <td>NaN</td>\n",
       "      <td>0.0</td>\n",
       "    </tr>\n",
       "    <tr>\n",
       "      <th>...</th>\n",
       "      <td>...</td>\n",
       "      <td>...</td>\n",
       "      <td>...</td>\n",
       "      <td>...</td>\n",
       "      <td>...</td>\n",
       "      <td>...</td>\n",
       "      <td>...</td>\n",
       "      <td>...</td>\n",
       "      <td>...</td>\n",
       "      <td>...</td>\n",
       "      <td>...</td>\n",
       "      <td>...</td>\n",
       "      <td>...</td>\n",
       "    </tr>\n",
       "    <tr>\n",
       "      <th>40</th>\n",
       "      <td>MICHAEL THOMPSON</td>\n",
       "      <td>BATTALION CHIEF, (FIRE DEPARTMENT)</td>\n",
       "      <td>168692.66</td>\n",
       "      <td>60847.56</td>\n",
       "      <td>21055.17</td>\n",
       "      <td>Not Provided</td>\n",
       "      <td>250595.39</td>\n",
       "      <td>250595.39</td>\n",
       "      <td>2011</td>\n",
       "      <td>NaN</td>\n",
       "      <td>San Francisco</td>\n",
       "      <td>NaN</td>\n",
       "      <td>NaN</td>\n",
       "    </tr>\n",
       "    <tr>\n",
       "      <th>30</th>\n",
       "      <td>HARLAN KELLY-JR</td>\n",
       "      <td>EXECUTIVE CONTRACT EMPLOYEE</td>\n",
       "      <td>234325.02</td>\n",
       "      <td>0.0</td>\n",
       "      <td>25972.64</td>\n",
       "      <td>Not Provided</td>\n",
       "      <td>260297.66</td>\n",
       "      <td>260297.66</td>\n",
       "      <td>2011</td>\n",
       "      <td>NaN</td>\n",
       "      <td>San Francisco</td>\n",
       "      <td>NaN</td>\n",
       "      <td>NaN</td>\n",
       "    </tr>\n",
       "    <tr>\n",
       "      <th>20</th>\n",
       "      <td>VENUS AZAR</td>\n",
       "      <td>ASSISTANT MEDICAL EXAMINER</td>\n",
       "      <td>257510.48</td>\n",
       "      <td>0.0</td>\n",
       "      <td>16679.79</td>\n",
       "      <td>Not Provided</td>\n",
       "      <td>274190.27</td>\n",
       "      <td>274190.27</td>\n",
       "      <td>2011</td>\n",
       "      <td>NaN</td>\n",
       "      <td>San Francisco</td>\n",
       "      <td>NaN</td>\n",
       "      <td>NaN</td>\n",
       "    </tr>\n",
       "    <tr>\n",
       "      <th>10</th>\n",
       "      <td>ARTHUR KENNEY</td>\n",
       "      <td>ASSISTANT CHIEF OF DEPARTMENT, (FIRE DEPARTMENT)</td>\n",
       "      <td>194999.39</td>\n",
       "      <td>71344.88</td>\n",
       "      <td>33149.9</td>\n",
       "      <td>Not Provided</td>\n",
       "      <td>299494.17</td>\n",
       "      <td>299494.17</td>\n",
       "      <td>2011</td>\n",
       "      <td>NaN</td>\n",
       "      <td>San Francisco</td>\n",
       "      <td>NaN</td>\n",
       "      <td>NaN</td>\n",
       "    </tr>\n",
       "    <tr>\n",
       "      <th>0</th>\n",
       "      <td>NATHANIEL FORD</td>\n",
       "      <td>GENERAL MANAGER-METROPOLITAN TRANSIT AUTHORITY</td>\n",
       "      <td>167411.18</td>\n",
       "      <td>0.0</td>\n",
       "      <td>400184.25</td>\n",
       "      <td>Not Provided</td>\n",
       "      <td>567595.43</td>\n",
       "      <td>567595.43</td>\n",
       "      <td>2011</td>\n",
       "      <td>NaN</td>\n",
       "      <td>San Francisco</td>\n",
       "      <td>NaN</td>\n",
       "      <td>NaN</td>\n",
       "    </tr>\n",
       "  </tbody>\n",
       "</table>\n",
       "<p>39836 rows × 13 columns</p>\n",
       "</div>"
      ],
      "text/plain": [
       "                 Employee Name  \\\n",
       "398350  Emiliano S Orencia III   \n",
       "398340         Jonathan Llamas   \n",
       "398330        Annette M Overby   \n",
       "398320       Flavio P Flaviani   \n",
       "398310       Joseph A Veronese   \n",
       "...                        ...   \n",
       "40            MICHAEL THOMPSON   \n",
       "30             HARLAN KELLY-JR   \n",
       "20                  VENUS AZAR   \n",
       "10               ARTHUR KENNEY   \n",
       "0               NATHANIEL FORD   \n",
       "\n",
       "                                               Job Title   Base Pay  \\\n",
       "398350                                         Custodian        0.0   \n",
       "398340                               Swimming Instructor      23.73   \n",
       "398330                                     Special Nurse      26.19   \n",
       "398320                                          Gardener        0.0   \n",
       "398310                         Bdcomm Mbr, Grp5,M$100/Mo      46.15   \n",
       "...                                                  ...        ...   \n",
       "40                    BATTALION CHIEF, (FIRE DEPARTMENT)  168692.66   \n",
       "30                           EXECUTIVE CONTRACT EMPLOYEE  234325.02   \n",
       "20                            ASSISTANT MEDICAL EXAMINER  257510.48   \n",
       "10      ASSISTANT CHIEF OF DEPARTMENT, (FIRE DEPARTMENT)  194999.39   \n",
       "0         GENERAL MANAGER-METROPOLITAN TRANSIT AUTHORITY  167411.18   \n",
       "\n",
       "       Overtime Pay  Other Pay      Benefits  Total Pay  Total Pay & Benefits  \\\n",
       "398350          0.0        0.0           0.0       0.00                  0.00   \n",
       "398340          0.0        0.0           0.0      23.73                 23.73   \n",
       "398330          0.0        0.0          4.87      26.19                 31.06   \n",
       "398320          0.0        0.0         41.82       0.00                 41.82   \n",
       "398310          0.0        0.0           0.0      46.15                 46.15   \n",
       "...             ...        ...           ...        ...                   ...   \n",
       "40         60847.56   21055.17  Not Provided  250595.39             250595.39   \n",
       "30              0.0   25972.64  Not Provided  260297.66             260297.66   \n",
       "20              0.0   16679.79  Not Provided  274190.27             274190.27   \n",
       "10         71344.88    33149.9  Not Provided  299494.17             299494.17   \n",
       "0               0.0  400184.25  Not Provided  567595.43             567595.43   \n",
       "\n",
       "        Year  Notes         Agency Status  Pension Debt  \n",
       "398350  2020    NaN  San Francisco    NaN           0.0  \n",
       "398340  2020    NaN  San Francisco    NaN           0.0  \n",
       "398330  2020    NaN  San Francisco    NaN           0.0  \n",
       "398320  2020    NaN  San Francisco    NaN           0.0  \n",
       "398310  2020    NaN  San Francisco    NaN           0.0  \n",
       "...      ...    ...            ...    ...           ...  \n",
       "40      2011    NaN  San Francisco    NaN           NaN  \n",
       "30      2011    NaN  San Francisco    NaN           NaN  \n",
       "20      2011    NaN  San Francisco    NaN           NaN  \n",
       "10      2011    NaN  San Francisco    NaN           NaN  \n",
       "0       2011    NaN  San Francisco    NaN           NaN  \n",
       "\n",
       "[39836 rows x 13 columns]"
      ]
     },
     "execution_count": 5,
     "metadata": {},
     "output_type": "execute_result"
    }
   ],
   "source": [
    "df1 = pd.read_csv('san-francisco-2011.csv')\n",
    "df2 = pd.read_csv('san-francisco-2012.csv')\n",
    "df3 = pd.read_csv('san-francisco-2013.csv')\n",
    "df4 = pd.read_csv('san-francisco-2014.csv')\n",
    "df5 = pd.read_csv('san-francisco-2015.csv')\n",
    "df6 = pd.read_csv('san-francisco-2016.csv')\n",
    "df7 = pd.read_csv('san-francisco-2017.csv')\n",
    "df8 = pd.read_csv('san-francisco-2018.csv')\n",
    "df9 = pd.read_csv('san-francisco-2019.csv')\n",
    "df10 = pd.read_csv('san-francisco-2020.csv')\n",
    "df = pd.concat([df1, df2, df3, df4, df5, df6, df7, df8, df9, df10], ignore_index=True)\n",
    "df[::-10]"
   ]
  },
  {
   "cell_type": "markdown",
   "id": "18c8c138",
   "metadata": {},
   "source": [
    "Удаляем ненужные столбцы"
   ]
  },
  {
   "cell_type": "code",
   "execution_count": 6,
   "id": "0ddc4216",
   "metadata": {},
   "outputs": [],
   "source": [
    "df = df.drop('Employee Name',axis=1)\n",
    "df = df.drop('Status',axis=1)\n",
    "df = df.drop('Pension Debt',axis=1)\n",
    "df = df.drop('Notes',axis=1)"
   ]
  },
  {
   "cell_type": "markdown",
   "id": "e7d0e7fa",
   "metadata": {},
   "source": [
    "Меняем текстовые значения 'Not provided' на NaN, изменяем названия колонок для удобства, приводим тип данных в нужный для вычислений"
   ]
  },
  {
   "cell_type": "code",
   "execution_count": 7,
   "id": "3b25f2ad",
   "metadata": {},
   "outputs": [
    {
     "name": "stderr",
     "output_type": "stream",
     "text": [
      "<ipython-input-7-f72bb4fb89f7>:4: DeprecationWarning: `np.str` is a deprecated alias for the builtin `str`. To silence this warning, use `str` by itself. Doing this will not modify any behavior and is safe. If you specifically wanted the numpy scalar type, use `np.str_` here.\n",
      "Deprecated in NumPy 1.20; for more details and guidance: https://numpy.org/devdocs/release/1.20.0-notes.html#deprecations\n",
      "  df = df.astype({'JobTitle': np.str,'Benefits':np.float, 'OvertimePay': np.float, 'OtherPay': np.float, 'Agency': np.str, 'BasePay': np.float})\n",
      "<ipython-input-7-f72bb4fb89f7>:4: DeprecationWarning: `np.float` is a deprecated alias for the builtin `float`. To silence this warning, use `float` by itself. Doing this will not modify any behavior and is safe. If you specifically wanted the numpy scalar type, use `np.float64` here.\n",
      "Deprecated in NumPy 1.20; for more details and guidance: https://numpy.org/devdocs/release/1.20.0-notes.html#deprecations\n",
      "  df = df.astype({'JobTitle': np.str,'Benefits':np.float, 'OvertimePay': np.float, 'OtherPay': np.float, 'Agency': np.str, 'BasePay': np.float})\n"
     ]
    }
   ],
   "source": [
    "df.replace('Not Provided', np.NaN, inplace = True)\n",
    "df.replace('Not provided', np.NaN, inplace = True)\n",
    "df.columns = ['JobTitle', 'BasePay', 'OvertimePay', 'OtherPay', 'Benefits', 'TotalPay', 'TotalPayBenefits','Year','Agency' ]\n",
    "df = df.astype({'JobTitle': np.str,'Benefits':np.float, 'OvertimePay': np.float, 'OtherPay': np.float, 'Agency': np.str, 'BasePay': np.float})"
   ]
  },
  {
   "cell_type": "markdown",
   "id": "6b942567",
   "metadata": {},
   "source": [
    "Меняем Null значения в колонках Benefits, BasePay по другим столбцам"
   ]
  },
  {
   "cell_type": "code",
   "execution_count": 8,
   "id": "92c69618",
   "metadata": {},
   "outputs": [],
   "source": [
    "df.loc[(df.Benefits.isnull() ), ('Benefits')] = df.TotalPayBenefits-df.TotalPay\n",
    "df.loc[(df.BasePay.isnull() ), ('BasePay')] = df.TotalPay-df.OvertimePay-df.OtherPay"
   ]
  },
  {
   "cell_type": "markdown",
   "id": "052a7b2e",
   "metadata": {},
   "source": [
    "Проверяем с помощью цикла по колонкам датафрейма процент Nan значений в колонках"
   ]
  },
  {
   "cell_type": "code",
   "execution_count": 10,
   "id": "df136f91",
   "metadata": {},
   "outputs": [
    {
     "name": "stdout",
     "output_type": "stream",
     "text": [
      "JobTitle 0.0\n",
      "BasePay 0.0\n",
      "OvertimePay 0.0\n",
      "OtherPay 0.0\n",
      "Benefits 0.0\n",
      "TotalPay 0.0\n",
      "TotalPayBenefits 0.0\n",
      "Year 0.0\n",
      "Agency 0.0\n"
     ]
    }
   ],
   "source": [
    "for i in df.columns:\n",
    "  print(i, round(df[i].isna().sum() / df.shape[0] *100,2))"
   ]
  },
  {
   "cell_type": "markdown",
   "id": "3a8b8d10",
   "metadata": {},
   "source": [
    "Группируем необходимые департаменты для дальнейших вычислений"
   ]
  },
  {
   "cell_type": "code",
   "execution_count": 30,
   "id": "4c82ce75",
   "metadata": {},
   "outputs": [
    {
     "name": "stderr",
     "output_type": "stream",
     "text": [
      "<ipython-input-30-c8e3420ca74e>:5: SettingWithCopyWarning: \n",
      "A value is trying to be set on a copy of a slice from a DataFrame.\n",
      "Try using .loc[row_indexer,col_indexer] = value instead\n",
      "\n",
      "See the caveats in the documentation: https://pandas.pydata.org/pandas-docs/stable/user_guide/indexing.html#returning-a-view-versus-a-copy\n",
      "  Departaments['Dep'] = '1 2 3'\n",
      "C:\\ProgramData\\Anaconda3\\lib\\site-packages\\pandas\\core\\indexing.py:1720: SettingWithCopyWarning: \n",
      "A value is trying to be set on a copy of a slice from a DataFrame.\n",
      "Try using .loc[row_indexer,col_indexer] = value instead\n",
      "\n",
      "See the caveats in the documentation: https://pandas.pydata.org/pandas-docs/stable/user_guide/indexing.html#returning-a-view-versus-a-copy\n",
      "  self._setitem_single_column(loc, value, pi)\n"
     ]
    }
   ],
   "source": [
    "police = df['JobTitle'].str.lower().str.contains('police', regex=False)\n",
    "fire = df['JobTitle'].str.lower().str.contains('fire', regex=False)\n",
    "medic = df['JobTitle'].str.lower().str.contains('medic', regex=False)\n",
    "Departaments = df[police^fire^medic]\n",
    "Departaments['Dep'] = '1 2 3'\n",
    "Departaments.loc[df['JobTitle'].str.lower().str.contains('police', regex=False),'Dep'] = 'Police'\n",
    "Departaments.loc[df['JobTitle'].str.lower().str.contains('fire', regex=False),'Dep'] = 'Fire'\n",
    "Departaments.loc[df['JobTitle'].str.lower().str.contains('medic', regex=False),'Dep'] = 'Medicine'"
   ]
  },
  {
   "cell_type": "markdown",
   "id": "4d611a0d",
   "metadata": {},
   "source": [
    "Группируем датафреймы - медиана, среднее значение, максимальное значение"
   ]
  },
  {
   "cell_type": "code",
   "execution_count": 31,
   "id": "c0957eb3",
   "metadata": {},
   "outputs": [],
   "source": [
    "df_median = Departaments.groupby(['Year','Dep'])['TotalPayBenefits'].median().reset_index()\n",
    "df_mean = Departaments.groupby(['Year','Dep'])['TotalPayBenefits'].mean().reset_index()\n",
    "df_max = Departaments.groupby(['Year','Dep'])['TotalPayBenefits'].max().reset_index()"
   ]
  },
  {
   "cell_type": "markdown",
   "id": "00d7e759",
   "metadata": {},
   "source": [
    "Демонстируем показатели"
   ]
  },
  {
   "cell_type": "code",
   "execution_count": 32,
   "id": "ed695ded",
   "metadata": {},
   "outputs": [
    {
     "name": "stdout",
     "output_type": "stream",
     "text": [
      "Медиана 162554.66\n"
     ]
    }
   ],
   "source": [
    "print('Медиана',Departaments.TotalPayBenefits.median())\n"
   ]
  },
  {
   "cell_type": "code",
   "execution_count": 33,
   "id": "69d126a9",
   "metadata": {},
   "outputs": [
    {
     "name": "stdout",
     "output_type": "stream",
     "text": [
      "Средний доход сотрудника 152160.11567366007\n"
     ]
    }
   ],
   "source": [
    "print('Средний доход сотрудника',Departaments.TotalPayBenefits.mean())"
   ]
  },
  {
   "cell_type": "markdown",
   "id": "fcaa69c7",
   "metadata": {},
   "source": [
    "Рисуем график распределения всех ЗП"
   ]
  },
  {
   "cell_type": "code",
   "execution_count": 34,
   "id": "4f214b86",
   "metadata": {},
   "outputs": [
    {
     "data": {
      "image/png": "[encoded data removed]",
      "text/plain": [
       "<Figure size 1008x432 with 1 Axes>"
      ]
     },
     "metadata": {
      "needs_background": "light"
     },
     "output_type": "display_data"
    }
   ],
   "source": [
    "plt.figure(figsize=(14,6))\n",
    "hist_info = plt.hist(Departaments.TotalPayBenefits, bins=20, edgecolor='green')\n",
    "plt.title('Распределение всех заработных плат за анализируемый период 2011-2020 гг.', size=20, color='k')\n",
    "plt.ylabel('Количество сотрудников')\n",
    "plt.xlabel('Сумма общих доходов сотрудника')\n",
    "plt.show()"
   ]
  },
  {
   "cell_type": "markdown",
   "id": "ab441f14",
   "metadata": {},
   "source": [
    "# 1. Как со временем менялись зарплаты между разными группами (группировка по Department - fire, medicine, police)? (максимальная, медианная, средняя)"
   ]
  },
  {
   "cell_type": "markdown",
   "id": "b64d9924",
   "metadata": {},
   "source": [
    "# Медиана"
   ]
  },
  {
   "cell_type": "code",
   "execution_count": 35,
   "id": "ca0d575d",
   "metadata": {},
   "outputs": [
    {
     "data": {
      "image/png": "[encoded data removed]",
      "text/plain": [
       "<Figure size 648x360 with 1 Axes>"
      ]
     },
     "metadata": {
      "needs_background": "light"
     },
     "output_type": "display_data"
    }
   ],
   "source": [
    "plt.figure(figsize=(9,5))\n",
    "plt.locator_params(axis ='x', nbins = 10)\n",
    "for N in ['Police', 'Medicine', 'Fire']:\n",
    "    plt.plot(df_median[(df_median.Dep == N)]['Year'], df_median[(df_median.Dep == N)]['TotalPayBenefits'],scalex=True, alpha=1)\n",
    "plt.legend(['Police', 'Medicine', 'Fire'])\n",
    "plt.title('Показатель медианы зарплаты по департаменту и году', size=20, color='k')\n",
    "plt.xlabel('Год')\n",
    "plt.ylabel('Медиана общих доходов сотрудника')\n",
    "plt.show()"
   ]
  },
  {
   "cell_type": "markdown",
   "id": "a7a930e6",
   "metadata": {},
   "source": [
    "# Cреднее значение"
   ]
  },
  {
   "cell_type": "code",
   "execution_count": 36,
   "id": "3090bc1a",
   "metadata": {},
   "outputs": [
    {
     "data": {
      "image/png": "[encoded data removed]",
      "text/plain": [
       "<Figure size 648x360 with 1 Axes>"
      ]
     },
     "metadata": {
      "needs_background": "light"
     },
     "output_type": "display_data"
    }
   ],
   "source": [
    "plt.figure(figsize=(9,5))\n",
    "plt.locator_params(axis ='x', nbins = 10)\n",
    "for N in ['Fire', 'Medicine', 'Police']:\n",
    "    plt.plot(df_mean[(df_mean.Dep == N)]['Year'], df_mean[(df_mean.Dep == N)]['TotalPayBenefits'],scalex=True, alpha=1)\n",
    "plt.legend(['Fire', 'Medicine', 'Police'])\n",
    "plt.title('Показатель среднего значения зарплаты по департаменту и году', size=20, color='k')\n",
    "plt.xlabel('Год')\n",
    "plt.ylabel('Медиана общих доходов сотрудника')\n",
    "plt.show()"
   ]
  },
  {
   "cell_type": "markdown",
   "id": "872431bd",
   "metadata": {},
   "source": [
    "Смотря на динамику медианы по департаментам, можно сделать вывод что, медианы всех департаментов очень похожи по своей динамике, резкий рост пришелся на 2012 год, время 3-его технологического бума в Сан-Франциско в основном связанные с началом эпохи Илона Маска. Произошли такие события как - 'к МКС пристыковался первый частный корабль Dragon компании SpaceX', 'Поставки автомобилей Tesla Motors', что повлекло массовое приглашение специалистов разных областей в разные сферы разработки, что и повлекло такой рост [Источник](https://realnoevremya.ru/articles/162345-klyuchevye-sobytiya-2012-goda-v-rossii-i-mire). Среднее значение и Медиана зарплаты сотрудников Медицины существенно ниже чем у Полиции и Пожарных."
   ]
  },
  {
   "cell_type": "markdown",
   "id": "17229027",
   "metadata": {},
   "source": [
    "# Максимальное значение"
   ]
  },
  {
   "cell_type": "code",
   "execution_count": 37,
   "id": "3d833382",
   "metadata": {},
   "outputs": [
    {
     "data": {
      "image/png": "[encoded data removed]",
      "text/plain": [
       "<Figure size 648x360 with 1 Axes>"
      ]
     },
     "metadata": {
      "needs_background": "light"
     },
     "output_type": "display_data"
    }
   ],
   "source": [
    "plt.figure(figsize=(9,5))\n",
    "plt.locator_params(axis ='x', nbins = 10)\n",
    "for N in ['Fire', 'Medicine', 'Police']:\n",
    "    plt.plot(df_max[(df_max.Dep == N)]['Year'], df_max[(df_max.Dep == N)]['TotalPayBenefits'],scalex=True, alpha=1)\n",
    "plt.legend(['Fire', 'Medicine', 'Police'])\n",
    "plt.title('Показатель максимального значения зарплаты в разрезе департаментов и годов', size=20, color='k')\n",
    "plt.xlabel('Год')\n",
    "plt.ylabel('Максимальный доход сотрудника')\n",
    "plt.show()"
   ]
  },
  {
   "cell_type": "markdown",
   "id": "334be6bc",
   "metadata": {},
   "source": [
    "Смотря на динамику показателей максимального значения зарплаты департаментов можно отметить две аномалии: 1) резкий рост максимальной зп у сотрудников Полиции наблюдается в 2018 году, это в основном связано с резким увеличением преступности в этот период [Источник](https://russian-rt-com.turbopages.org/turbo/russian.rt.com/s/inotv/2019-08-24/Fox-News-prestupnost-i-razruha) 2) 2019 год, период начала пандемии Коронавируса, так как власти США обьявили локдаун и большинство сотрудников были переведены на удаленный режим работы, так же многие фирмы закрылись, у людей банально не хватало денег на дорогую медицинскую страховку, в связи с этим максимальное значение сотрудников медицины резко упало.\n",
    "\n",
    "\n",
    "\n"
   ]
  },
  {
   "cell_type": "markdown",
   "id": "29f7fd65",
   "metadata": {},
   "source": [
    "# 2. Как распределяются базовая оплата, сверхурочная работа и льготы между разными группам. Нужно построить диаграммы по распределению со временем для каждого департамента по базовым, сверхурочным и льготам"
   ]
  },
  {
   "cell_type": "markdown",
   "id": "1262b674",
   "metadata": {},
   "source": [
    "# Медиана базового оклада"
   ]
  },
  {
   "cell_type": "code",
   "execution_count": 45,
   "id": "b32d1c79",
   "metadata": {},
   "outputs": [
    {
     "data": {
      "image/png": "[encoded data removed]",
      "text/plain": [
       "<Figure size 648x360 with 1 Axes>"
      ]
     },
     "metadata": {
      "needs_background": "light"
     },
     "output_type": "display_data"
    }
   ],
   "source": [
    "plt.figure(figsize=(9,5))\n",
    "df_median_BasePay = Departaments.groupby(['Year','Dep'])['BasePay'].median().reset_index()\n",
    "sns.barplot(x='Year', y='BasePay', hue='Dep', data=df_median_BasePay)\n",
    "plt.xlabel('Год')\n",
    "plt.ylabel('Медиана оклада сотрудника')\n",
    "plt.title('Медиана базового оклада по департаментам и годам', size=15, color='k');"
   ]
  },
  {
   "cell_type": "markdown",
   "id": "c136c985",
   "metadata": {},
   "source": [
    "#  Медиана сверхурочных работ"
   ]
  },
  {
   "cell_type": "code",
   "execution_count": 44,
   "id": "513ea0c0",
   "metadata": {},
   "outputs": [
    {
     "data": {
      "text/plain": [
       "Text(0.5, 1.0, 'Медиана выплат за сверхурочные работы по департаментам и годам')"
      ]
     },
     "execution_count": 44,
     "metadata": {},
     "output_type": "execute_result"
    },
    {
     "data": {
      "image/png": "[encoded data removed]",
      "text/plain": [
       "<Figure size 648x360 with 1 Axes>"
      ]
     },
     "metadata": {
      "needs_background": "light"
     },
     "output_type": "display_data"
    }
   ],
   "source": [
    "plt.figure(figsize=(9,5))\n",
    "df_median_OvertimePay = Departaments.groupby(['Year','Dep'])['OvertimePay'].median().reset_index()\n",
    "sns.barplot(x='Year', y='OvertimePay', hue='Dep', data=df_median_OvertimePay)\n",
    "plt.xlabel('Год')\n",
    "plt.ylabel('Медиана выплат')\n",
    "plt.title('Медиана выплат за сверхурочные работы по департаментам и годам', size=15, color='k')"
   ]
  },
  {
   "cell_type": "markdown",
   "id": "e74b5016",
   "metadata": {},
   "source": [
    "# Медиана льгот"
   ]
  },
  {
   "cell_type": "code",
   "execution_count": 43,
   "id": "cdc7b7f9",
   "metadata": {},
   "outputs": [
    {
     "data": {
      "image/png": "[encoded data removed]",
      "text/plain": [
       "<Figure size 648x360 with 1 Axes>"
      ]
     },
     "metadata": {
      "needs_background": "light"
     },
     "output_type": "display_data"
    }
   ],
   "source": [
    "plt.figure(figsize=(9,5))\n",
    "df_median_Benefits = Departaments.groupby(['Year','Dep'])['Benefits'].median().reset_index()\n",
    "sns.barplot(x='Year', y='Benefits', hue='Dep', data=df_median_Benefits)\n",
    "plt.xlabel('Год')\n",
    "plt.ylabel('Медиана по льготам')\n",
    "plt.title('Медиана льгот по департаментам и годам', size=15, color='k');"
   ]
  },
  {
   "cell_type": "markdown",
   "id": "6e1ef973",
   "metadata": {},
   "source": [
    "Смотря на эти графики можно сказать что, 1) Распределение достаточно устойчивое 2) Плата за сверхурочные работы в Медицине отсутствует 3) Льгот в 2011 году не было совсем"
   ]
  },
  {
   "cell_type": "markdown",
   "id": "363b7531",
   "metadata": {},
   "source": [
    "# 3. Как распределяется бюджет на разные группы (department) с течением времени"
   ]
  },
  {
   "cell_type": "code",
   "execution_count": 42,
   "id": "06741e9d",
   "metadata": {},
   "outputs": [
    {
     "data": {
      "image/png": "[encoded data removed]",
      "text/plain": [
       "<Figure size 648x360 with 1 Axes>"
      ]
     },
     "metadata": {
      "needs_background": "light"
     },
     "output_type": "display_data"
    }
   ],
   "source": [
    "plt.figure(figsize=(9,5))\n",
    "df_TotalPay = Departaments.groupby(['Year','Dep'])['TotalPayBenefits'].sum().reset_index()\n",
    "sns.barplot(x='Year', y='TotalPayBenefits', hue='Dep', data=df_TotalPay)\n",
    "plt.xlabel('Год')\n",
    "plt.ylabel('Суммарный доход')\n",
    "plt.title('Суммарный доход по департаментам и годам', size=15, color='k');"
   ]
  },
  {
   "cell_type": "markdown",
   "id": "7b9e2118",
   "metadata": {},
   "source": [
    "Смотря на график больше всего бюджетных денег поступает в Полицию, больше чем департамент мидицины почти на 1000 %"
   ]
  },
  {
   "cell_type": "markdown",
   "id": "638e0e8a",
   "metadata": {},
   "source": [
    "# 4. Какое количество людей в каждом департаменте"
   ]
  },
  {
   "cell_type": "code",
   "execution_count": 47,
   "id": "6e38c676",
   "metadata": {},
   "outputs": [
    {
     "data": {
      "image/png": "[encoded data removed]",
      "text/plain": [
       "<Figure size 648x360 with 1 Axes>"
      ]
     },
     "metadata": {
      "needs_background": "light"
     },
     "output_type": "display_data"
    }
   ],
   "source": [
    "plt.figure(figsize=(9,5))\n",
    "df_count_people = Departaments.groupby(['Year','Dep'])['JobTitle'].count().reset_index()\n",
    "df_count_people.rename(columns = {'JobTitle':'Count'}, inplace = True) \n",
    "sns.barplot(x='Year', y='Count', hue='Dep', data=df_count_people)\n",
    "plt.xlabel('Год')\n",
    "plt.ylabel('Количество сотрудников')\n",
    "plt.title('Количество сотрудников по департаментам и годам', size=15, color='k');"
   ]
  },
  {
   "cell_type": "markdown",
   "id": "b4f108fd",
   "metadata": {},
   "source": [
    "В 2012 можно надлюдать резкий спад по сравнению с 2011 количества полицейских дальше динамика ушла в боковик, однако несмотря на падение в 2012, департамент Полиции остался самым большим с точки зрения количества сотрудников, превышающий департамент медицины почти в 4 раза"
   ]
  },
  {
   "cell_type": "markdown",
   "id": "c13c05f9",
   "metadata": {},
   "source": [
    "# 5. Какое количество с разным уровнем дохода? (гистограмма с шагом в 5к)\n"
   ]
  },
  {
   "cell_type": "code",
   "execution_count": 53,
   "id": "935466cd",
   "metadata": {},
   "outputs": [
    {
     "data": {
      "image/png": "[encoded data removed]",
      "text/plain": [
       "<Figure size 1080x432 with 1 Axes>"
      ]
     },
     "metadata": {
      "needs_background": "light"
     },
     "output_type": "display_data"
    }
   ],
   "source": [
    "plt.figure(figsize=(15,6))\n",
    "hist_info = plt.hist(Departaments.TotalPayBenefits, bins=140, edgecolor='green')\n",
    "plt.title('Распределение всех зарплат', size=15, color='k')\n",
    "plt.ylabel('Количество сотрудников')\n",
    "plt.xlabel('Сумма общих доходов сотрудника')\n",
    "plt.show()"
   ]
  },
  {
   "cell_type": "markdown",
   "id": "974fcbf7",
   "metadata": {},
   "source": [
    "# 6. На базе линейной регрессии постройте прогноз по тому, какие будут закупке в следующий год по каждому департаменту"
   ]
  },
  {
   "cell_type": "markdown",
   "id": "74e1175c",
   "metadata": {},
   "source": [
    "Импортируем необходимые библиотеки для предикта"
   ]
  },
  {
   "cell_type": "code",
   "execution_count": 54,
   "id": "8cca7084",
   "metadata": {},
   "outputs": [],
   "source": [
    "from sklearn.linear_model import LinearRegression\n",
    "from sklearn.model_selection import train_test_split\n",
    "from sklearn.metrics import mean_squared_error\n",
    "from math import sqrt"
   ]
  },
  {
   "cell_type": "markdown",
   "id": "60db6d37",
   "metadata": {},
   "source": [
    "Группируем данные для построения модели"
   ]
  },
  {
   "cell_type": "code",
   "execution_count": 55,
   "id": "caf7d8e2",
   "metadata": {},
   "outputs": [
    {
     "data": {
      "text/html": [
       "<div>\n",
       "<style scoped>\n",
       "    .dataframe tbody tr th:only-of-type {\n",
       "        vertical-align: middle;\n",
       "    }\n",
       "\n",
       "    .dataframe tbody tr th {\n",
       "        vertical-align: top;\n",
       "    }\n",
       "\n",
       "    .dataframe thead th {\n",
       "        text-align: right;\n",
       "    }\n",
       "</style>\n",
       "<table border=\"1\" class=\"dataframe\">\n",
       "  <thead>\n",
       "    <tr style=\"text-align: right;\">\n",
       "      <th></th>\n",
       "      <th>JobTitle</th>\n",
       "      <th>BasePay</th>\n",
       "      <th>OvertimePay</th>\n",
       "      <th>OtherPay</th>\n",
       "      <th>Benefits</th>\n",
       "      <th>TotalPay</th>\n",
       "      <th>TotalPayBenefits</th>\n",
       "      <th>Year</th>\n",
       "      <th>Agency</th>\n",
       "      <th>Dep</th>\n",
       "    </tr>\n",
       "  </thead>\n",
       "  <tbody>\n",
       "    <tr>\n",
       "      <th>1</th>\n",
       "      <td>CAPTAIN III (POLICE DEPARTMENT)</td>\n",
       "      <td>155966.02</td>\n",
       "      <td>245131.88</td>\n",
       "      <td>137811.38</td>\n",
       "      <td>0.0</td>\n",
       "      <td>538909.28</td>\n",
       "      <td>538909.28</td>\n",
       "      <td>2011</td>\n",
       "      <td>San Francisco</td>\n",
       "      <td>Police</td>\n",
       "    </tr>\n",
       "    <tr>\n",
       "      <th>2</th>\n",
       "      <td>CAPTAIN III (POLICE DEPARTMENT)</td>\n",
       "      <td>212739.13</td>\n",
       "      <td>106088.18</td>\n",
       "      <td>16452.60</td>\n",
       "      <td>0.0</td>\n",
       "      <td>335279.91</td>\n",
       "      <td>335279.91</td>\n",
       "      <td>2011</td>\n",
       "      <td>San Francisco</td>\n",
       "      <td>Police</td>\n",
       "    </tr>\n",
       "    <tr>\n",
       "      <th>4</th>\n",
       "      <td>DEPUTY CHIEF OF DEPARTMENT,(FIRE DEPARTMENT)</td>\n",
       "      <td>134401.60</td>\n",
       "      <td>9737.00</td>\n",
       "      <td>182234.59</td>\n",
       "      <td>0.0</td>\n",
       "      <td>326373.19</td>\n",
       "      <td>326373.19</td>\n",
       "      <td>2011</td>\n",
       "      <td>San Francisco</td>\n",
       "      <td>Fire</td>\n",
       "    </tr>\n",
       "    <tr>\n",
       "      <th>6</th>\n",
       "      <td>BATTALION CHIEF, (FIRE DEPARTMENT)</td>\n",
       "      <td>92492.01</td>\n",
       "      <td>89062.90</td>\n",
       "      <td>134426.14</td>\n",
       "      <td>0.0</td>\n",
       "      <td>315981.05</td>\n",
       "      <td>315981.05</td>\n",
       "      <td>2011</td>\n",
       "      <td>San Francisco</td>\n",
       "      <td>Fire</td>\n",
       "    </tr>\n",
       "    <tr>\n",
       "      <th>8</th>\n",
       "      <td>BATTALION CHIEF, (FIRE DEPARTMENT)</td>\n",
       "      <td>176932.64</td>\n",
       "      <td>86362.68</td>\n",
       "      <td>40132.23</td>\n",
       "      <td>0.0</td>\n",
       "      <td>303427.55</td>\n",
       "      <td>303427.55</td>\n",
       "      <td>2011</td>\n",
       "      <td>San Francisco</td>\n",
       "      <td>Fire</td>\n",
       "    </tr>\n",
       "    <tr>\n",
       "      <th>...</th>\n",
       "      <td>...</td>\n",
       "      <td>...</td>\n",
       "      <td>...</td>\n",
       "      <td>...</td>\n",
       "      <td>...</td>\n",
       "      <td>...</td>\n",
       "      <td>...</td>\n",
       "      <td>...</td>\n",
       "      <td>...</td>\n",
       "      <td>...</td>\n",
       "    </tr>\n",
       "    <tr>\n",
       "      <th>397902</th>\n",
       "      <td>Community Police Services Aide</td>\n",
       "      <td>0.00</td>\n",
       "      <td>0.00</td>\n",
       "      <td>489.91</td>\n",
       "      <td>0.0</td>\n",
       "      <td>489.91</td>\n",
       "      <td>489.91</td>\n",
       "      <td>2020</td>\n",
       "      <td>San Francisco</td>\n",
       "      <td>Police</td>\n",
       "    </tr>\n",
       "    <tr>\n",
       "      <th>397991</th>\n",
       "      <td>Medical Social Worker</td>\n",
       "      <td>0.00</td>\n",
       "      <td>0.00</td>\n",
       "      <td>362.69</td>\n",
       "      <td>0.0</td>\n",
       "      <td>362.69</td>\n",
       "      <td>362.69</td>\n",
       "      <td>2020</td>\n",
       "      <td>San Francisco</td>\n",
       "      <td>Medicine</td>\n",
       "    </tr>\n",
       "    <tr>\n",
       "      <th>398025</th>\n",
       "      <td>Police Officer 3</td>\n",
       "      <td>308.63</td>\n",
       "      <td>0.00</td>\n",
       "      <td>0.00</td>\n",
       "      <td>0.0</td>\n",
       "      <td>308.63</td>\n",
       "      <td>308.63</td>\n",
       "      <td>2020</td>\n",
       "      <td>San Francisco</td>\n",
       "      <td>Police</td>\n",
       "    </tr>\n",
       "    <tr>\n",
       "      <th>398300</th>\n",
       "      <td>Police Officer 3</td>\n",
       "      <td>51.44</td>\n",
       "      <td>0.00</td>\n",
       "      <td>0.00</td>\n",
       "      <td>0.0</td>\n",
       "      <td>51.44</td>\n",
       "      <td>51.44</td>\n",
       "      <td>2020</td>\n",
       "      <td>San Francisco</td>\n",
       "      <td>Police</td>\n",
       "    </tr>\n",
       "    <tr>\n",
       "      <th>398312</th>\n",
       "      <td>Medical Social Worker</td>\n",
       "      <td>0.00</td>\n",
       "      <td>0.00</td>\n",
       "      <td>45.34</td>\n",
       "      <td>0.0</td>\n",
       "      <td>45.34</td>\n",
       "      <td>45.34</td>\n",
       "      <td>2020</td>\n",
       "      <td>San Francisco</td>\n",
       "      <td>Medicine</td>\n",
       "    </tr>\n",
       "  </tbody>\n",
       "</table>\n",
       "<p>38647 rows × 10 columns</p>\n",
       "</div>"
      ],
      "text/plain": [
       "                                            JobTitle    BasePay  OvertimePay  \\\n",
       "1                    CAPTAIN III (POLICE DEPARTMENT)  155966.02    245131.88   \n",
       "2                    CAPTAIN III (POLICE DEPARTMENT)  212739.13    106088.18   \n",
       "4       DEPUTY CHIEF OF DEPARTMENT,(FIRE DEPARTMENT)  134401.60      9737.00   \n",
       "6                 BATTALION CHIEF, (FIRE DEPARTMENT)   92492.01     89062.90   \n",
       "8                 BATTALION CHIEF, (FIRE DEPARTMENT)  176932.64     86362.68   \n",
       "...                                              ...        ...          ...   \n",
       "397902                Community Police Services Aide       0.00         0.00   \n",
       "397991                         Medical Social Worker       0.00         0.00   \n",
       "398025                              Police Officer 3     308.63         0.00   \n",
       "398300                              Police Officer 3      51.44         0.00   \n",
       "398312                         Medical Social Worker       0.00         0.00   \n",
       "\n",
       "         OtherPay  Benefits   TotalPay  TotalPayBenefits  Year         Agency  \\\n",
       "1       137811.38       0.0  538909.28         538909.28  2011  San Francisco   \n",
       "2        16452.60       0.0  335279.91         335279.91  2011  San Francisco   \n",
       "4       182234.59       0.0  326373.19         326373.19  2011  San Francisco   \n",
       "6       134426.14       0.0  315981.05         315981.05  2011  San Francisco   \n",
       "8        40132.23       0.0  303427.55         303427.55  2011  San Francisco   \n",
       "...           ...       ...        ...               ...   ...            ...   \n",
       "397902     489.91       0.0     489.91            489.91  2020  San Francisco   \n",
       "397991     362.69       0.0     362.69            362.69  2020  San Francisco   \n",
       "398025       0.00       0.0     308.63            308.63  2020  San Francisco   \n",
       "398300       0.00       0.0      51.44             51.44  2020  San Francisco   \n",
       "398312      45.34       0.0      45.34             45.34  2020  San Francisco   \n",
       "\n",
       "             Dep  \n",
       "1         Police  \n",
       "2         Police  \n",
       "4           Fire  \n",
       "6           Fire  \n",
       "8           Fire  \n",
       "...          ...  \n",
       "397902    Police  \n",
       "397991  Medicine  \n",
       "398025    Police  \n",
       "398300    Police  \n",
       "398312  Medicine  \n",
       "\n",
       "[38647 rows x 10 columns]"
      ]
     },
     "execution_count": 55,
     "metadata": {},
     "output_type": "execute_result"
    }
   ],
   "source": [
    "Departaments_LR = Departaments.copy()\n",
    "Departaments_LR_Police = Departaments_LR[(Departaments_LR.Dep == 'Police')]\n",
    "Departaments_LR_Fire = Departaments_LR[(Departaments_LR.Dep == 'Fire')]\n",
    "Departaments_LR_Medicine = Departaments_LR[(Departaments_LR.Dep == 'Medicine')]\n",
    "Departaments_LR_Police = Departaments_LR_Police.groupby(['Year'])['TotalPayBenefits'].sum().reset_index()\n",
    "Departaments_LR_Fire = Departaments_LR_Fire.groupby(['Year'])['TotalPayBenefits'].sum().reset_index()\n",
    "Departaments_LR_Medicine = Departaments_LR_Medicine.groupby(['Year'])['TotalPayBenefits'].sum().reset_index()\n"
   ]
  },
  {
   "cell_type": "markdown",
   "id": "a96de435",
   "metadata": {},
   "source": [
    "# Полиция:"
   ]
  },
  {
   "cell_type": "code",
   "execution_count": 117,
   "id": "cc3169c5",
   "metadata": {},
   "outputs": [],
   "source": [
    "Departaments_LR_Police\n",
    "predict_police = Departaments_LR_Police.drop(['TotalPayBenefits'],axis = 1)\n",
    "target_police = Departaments_LR_Police['TotalPayBenefits']"
   ]
  },
  {
   "cell_type": "code",
   "execution_count": 118,
   "id": "abb9cb25",
   "metadata": {},
   "outputs": [
    {
     "name": "stdout",
     "output_type": "stream",
     "text": [
      "X_train (7, 1)\n",
      "X_test (3, 1)\n"
     ]
    }
   ],
   "source": [
    "X_train,X_test,y_train, y_test = train_test_split(predict_police,target_police, shuffle=False, test_size=0.3)\n",
    "print('X_train',X_train.shape)\n",
    "print('X_test',X_test.shape)"
   ]
  },
  {
   "cell_type": "code",
   "execution_count": 119,
   "id": "55e16a3b",
   "metadata": {},
   "outputs": [],
   "source": [
    "lr_police = LinearRegression()\n",
    "lr_police.fit(predict_police,target_police)\n",
    "predicted_police = lr_police.predict(X_test)"
   ]
  },
  {
   "cell_type": "code",
   "execution_count": 120,
   "id": "2b44687b",
   "metadata": {},
   "outputs": [
    {
     "data": {
      "text/plain": [
       "array([3.24706845e+08, 3.30730738e+08, 3.36754631e+08])"
      ]
     },
     "execution_count": 120,
     "metadata": {},
     "output_type": "execute_result"
    }
   ],
   "source": [
    "predicted_police"
   ]
  },
  {
   "cell_type": "code",
   "execution_count": 121,
   "id": "36755f42",
   "metadata": {},
   "outputs": [
    {
     "name": "stdout",
     "output_type": "stream",
     "text": [
      "RMSE(Police):  9277032.95178713\n"
     ]
    }
   ],
   "source": [
    "print(\"RMSE(Police): \",np.sqrt(mean_squared_error(y_test, predicted_police)))"
   ]
  },
  {
   "cell_type": "code",
   "execution_count": 122,
   "id": "2b9d999b",
   "metadata": {},
   "outputs": [
    {
     "data": {
      "text/plain": [
       "342778524.38866425"
      ]
     },
     "execution_count": 122,
     "metadata": {},
     "output_type": "execute_result"
    }
   ],
   "source": [
    "lr_police.predict([[2021]])[0]"
   ]
  },
  {
   "cell_type": "markdown",
   "id": "de75432c",
   "metadata": {},
   "source": [
    "# Пожарники"
   ]
  },
  {
   "cell_type": "code",
   "execution_count": 123,
   "id": "e9931fba",
   "metadata": {},
   "outputs": [
    {
     "name": "stdout",
     "output_type": "stream",
     "text": [
      "X_train (9, 1)\n",
      "X_test (1, 1)\n"
     ]
    }
   ],
   "source": [
    "predict_fire = Departaments_LR_Fire.drop(['TotalPayBenefits'],axis = 1)\n",
    "target_fire = Departaments_LR_Fire['TotalPayBenefits']\n",
    "X_train,X_test,y_train, y_test = train_test_split(predict_fire,target_fire, shuffle=False, test_size=0.05)\n",
    "print('X_train',X_train.shape)\n",
    "print('X_test',X_test.shape)"
   ]
  },
  {
   "cell_type": "code",
   "execution_count": 124,
   "id": "cc21c892",
   "metadata": {},
   "outputs": [
    {
     "data": {
      "text/plain": [
       "array([2.76590525e+08])"
      ]
     },
     "execution_count": 124,
     "metadata": {},
     "output_type": "execute_result"
    }
   ],
   "source": [
    "lr_fire = LinearRegression()\n",
    "lr_fire.fit(predict_fire,target_fire)\n",
    "\n",
    "predicted_fire = lr_fire.predict(X_test)\n",
    "predicted_fire"
   ]
  },
  {
   "cell_type": "code",
   "execution_count": 125,
   "id": "2aa7f2c9",
   "metadata": {},
   "outputs": [
    {
     "name": "stdout",
     "output_type": "stream",
     "text": [
      "RMSE (Fire):  1949238.1674551368\n"
     ]
    }
   ],
   "source": [
    "print(\"RMSE (Fire): \",np.sqrt(mean_squared_error(y_test, predicted_fire)))"
   ]
  },
  {
   "cell_type": "code",
   "execution_count": 126,
   "id": "49f3f6f4",
   "metadata": {},
   "outputs": [
    {
     "data": {
      "text/plain": [
       "285019732.1566658"
      ]
     },
     "execution_count": 126,
     "metadata": {},
     "output_type": "execute_result"
    }
   ],
   "source": [
    "lr_fire.predict([[2021]])[0]"
   ]
  },
  {
   "cell_type": "markdown",
   "id": "777e55fd",
   "metadata": {},
   "source": [
    "# Медицина"
   ]
  },
  {
   "cell_type": "code",
   "execution_count": 127,
   "id": "79c60244",
   "metadata": {},
   "outputs": [
    {
     "name": "stdout",
     "output_type": "stream",
     "text": [
      "X_train (9, 1)\n",
      "X_test (1, 1)\n"
     ]
    }
   ],
   "source": [
    "predict_medic = Departaments_LR_Medicine.drop(['TotalPayBenefits'],axis = 1)\n",
    "target_medic = Departaments_LR_Medicine['TotalPayBenefits']\n",
    "X_train,X_test,y_train, y_test = train_test_split(predict_medic,target_medic, shuffle=False, test_size=0.05)\n",
    "print('X_train',X_train.shape)\n",
    "print('X_test',X_test.shape)"
   ]
  },
  {
   "cell_type": "code",
   "execution_count": 128,
   "id": "62e2699a",
   "metadata": {},
   "outputs": [
    {
     "data": {
      "text/plain": [
       "array([50758853.33454609])"
      ]
     },
     "execution_count": 128,
     "metadata": {},
     "output_type": "execute_result"
    }
   ],
   "source": [
    "lr_medic = LinearRegression()\n",
    "lr_medic.fit(predict_medic,target_medic)  \n",
    "\n",
    "predicted_medic = model_lr_medic.predict(X_test)\n",
    "predicted_medic  "
   ]
  },
  {
   "cell_type": "code",
   "execution_count": 129,
   "id": "d985396f",
   "metadata": {},
   "outputs": [
    {
     "name": "stdout",
     "output_type": "stream",
     "text": [
      "RMSE(Medicine):  1888970.254546009\n"
     ]
    }
   ],
   "source": [
    "print(\"RMSE(Medicine): \",np.sqrt(mean_squared_error(y_test, predicted_medic)))"
   ]
  },
  {
   "cell_type": "code",
   "execution_count": 130,
   "id": "38786183",
   "metadata": {},
   "outputs": [
    {
     "data": {
      "text/plain": [
       "53205933.06133366"
      ]
     },
     "execution_count": 130,
     "metadata": {},
     "output_type": "execute_result"
    }
   ],
   "source": [
    "lr_medic.predict([[2021]])[0]"
   ]
  },
  {
   "cell_type": "markdown",
   "id": "2e496fcb",
   "metadata": {},
   "source": [
    "# Визуализация предиктов по департаментам"
   ]
  },
  {
   "cell_type": "markdown",
   "id": "eb52e4dc",
   "metadata": {},
   "source": [
    "Создаем новый ДФ"
   ]
  },
  {
   "cell_type": "code",
   "execution_count": 131,
   "id": "38e05f87",
   "metadata": {},
   "outputs": [
    {
     "data": {
      "text/html": [
       "<div>\n",
       "<style scoped>\n",
       "    .dataframe tbody tr th:only-of-type {\n",
       "        vertical-align: middle;\n",
       "    }\n",
       "\n",
       "    .dataframe tbody tr th {\n",
       "        vertical-align: top;\n",
       "    }\n",
       "\n",
       "    .dataframe thead th {\n",
       "        text-align: right;\n",
       "    }\n",
       "</style>\n",
       "<table border=\"1\" class=\"dataframe\">\n",
       "  <thead>\n",
       "    <tr style=\"text-align: right;\">\n",
       "      <th></th>\n",
       "      <th>Year</th>\n",
       "      <th>Dep</th>\n",
       "      <th>TotalPayBenefits</th>\n",
       "    </tr>\n",
       "  </thead>\n",
       "  <tbody>\n",
       "    <tr>\n",
       "      <th>0</th>\n",
       "      <td>2011</td>\n",
       "      <td>Fire</td>\n",
       "      <td>1.720387e+08</td>\n",
       "    </tr>\n",
       "    <tr>\n",
       "      <th>1</th>\n",
       "      <td>2011</td>\n",
       "      <td>Medicine</td>\n",
       "      <td>2.692149e+07</td>\n",
       "    </tr>\n",
       "    <tr>\n",
       "      <th>2</th>\n",
       "      <td>2011</td>\n",
       "      <td>Police</td>\n",
       "      <td>3.192681e+08</td>\n",
       "    </tr>\n",
       "    <tr>\n",
       "      <th>3</th>\n",
       "      <td>2012</td>\n",
       "      <td>Fire</td>\n",
       "      <td>2.226816e+08</td>\n",
       "    </tr>\n",
       "    <tr>\n",
       "      <th>4</th>\n",
       "      <td>2012</td>\n",
       "      <td>Medicine</td>\n",
       "      <td>3.183268e+07</td>\n",
       "    </tr>\n",
       "    <tr>\n",
       "      <th>5</th>\n",
       "      <td>2012</td>\n",
       "      <td>Police</td>\n",
       "      <td>2.805306e+08</td>\n",
       "    </tr>\n",
       "    <tr>\n",
       "      <th>6</th>\n",
       "      <td>2013</td>\n",
       "      <td>Fire</td>\n",
       "      <td>2.380130e+08</td>\n",
       "    </tr>\n",
       "    <tr>\n",
       "      <th>7</th>\n",
       "      <td>2013</td>\n",
       "      <td>Medicine</td>\n",
       "      <td>3.378203e+07</td>\n",
       "    </tr>\n",
       "    <tr>\n",
       "      <th>8</th>\n",
       "      <td>2013</td>\n",
       "      <td>Police</td>\n",
       "      <td>2.887283e+08</td>\n",
       "    </tr>\n",
       "    <tr>\n",
       "      <th>9</th>\n",
       "      <td>2014</td>\n",
       "      <td>Fire</td>\n",
       "      <td>2.337893e+08</td>\n",
       "    </tr>\n",
       "    <tr>\n",
       "      <th>10</th>\n",
       "      <td>2014</td>\n",
       "      <td>Medicine</td>\n",
       "      <td>3.613354e+07</td>\n",
       "    </tr>\n",
       "    <tr>\n",
       "      <th>11</th>\n",
       "      <td>2014</td>\n",
       "      <td>Police</td>\n",
       "      <td>2.820115e+08</td>\n",
       "    </tr>\n",
       "    <tr>\n",
       "      <th>12</th>\n",
       "      <td>2015</td>\n",
       "      <td>Fire</td>\n",
       "      <td>2.324931e+08</td>\n",
       "    </tr>\n",
       "    <tr>\n",
       "      <th>13</th>\n",
       "      <td>2015</td>\n",
       "      <td>Medicine</td>\n",
       "      <td>3.802786e+07</td>\n",
       "    </tr>\n",
       "    <tr>\n",
       "      <th>14</th>\n",
       "      <td>2015</td>\n",
       "      <td>Police</td>\n",
       "      <td>2.850442e+08</td>\n",
       "    </tr>\n",
       "    <tr>\n",
       "      <th>15</th>\n",
       "      <td>2016</td>\n",
       "      <td>Fire</td>\n",
       "      <td>2.407845e+08</td>\n",
       "    </tr>\n",
       "    <tr>\n",
       "      <th>16</th>\n",
       "      <td>2016</td>\n",
       "      <td>Medicine</td>\n",
       "      <td>4.257903e+07</td>\n",
       "    </tr>\n",
       "    <tr>\n",
       "      <th>17</th>\n",
       "      <td>2016</td>\n",
       "      <td>Police</td>\n",
       "      <td>3.130896e+08</td>\n",
       "    </tr>\n",
       "    <tr>\n",
       "      <th>18</th>\n",
       "      <td>2017</td>\n",
       "      <td>Fire</td>\n",
       "      <td>2.483007e+08</td>\n",
       "    </tr>\n",
       "    <tr>\n",
       "      <th>19</th>\n",
       "      <td>2017</td>\n",
       "      <td>Medicine</td>\n",
       "      <td>4.481844e+07</td>\n",
       "    </tr>\n",
       "    <tr>\n",
       "      <th>20</th>\n",
       "      <td>2017</td>\n",
       "      <td>Police</td>\n",
       "      <td>3.132742e+08</td>\n",
       "    </tr>\n",
       "    <tr>\n",
       "      <th>21</th>\n",
       "      <td>2018</td>\n",
       "      <td>Fire</td>\n",
       "      <td>2.551662e+08</td>\n",
       "    </tr>\n",
       "    <tr>\n",
       "      <th>22</th>\n",
       "      <td>2018</td>\n",
       "      <td>Medicine</td>\n",
       "      <td>4.708466e+07</td>\n",
       "    </tr>\n",
       "    <tr>\n",
       "      <th>23</th>\n",
       "      <td>2018</td>\n",
       "      <td>Police</td>\n",
       "      <td>3.254865e+08</td>\n",
       "    </tr>\n",
       "    <tr>\n",
       "      <th>24</th>\n",
       "      <td>2019</td>\n",
       "      <td>Fire</td>\n",
       "      <td>2.647841e+08</td>\n",
       "    </tr>\n",
       "    <tr>\n",
       "      <th>25</th>\n",
       "      <td>2019</td>\n",
       "      <td>Medicine</td>\n",
       "      <td>4.742033e+07</td>\n",
       "    </tr>\n",
       "    <tr>\n",
       "      <th>26</th>\n",
       "      <td>2019</td>\n",
       "      <td>Police</td>\n",
       "      <td>3.379489e+08</td>\n",
       "    </tr>\n",
       "    <tr>\n",
       "      <th>27</th>\n",
       "      <td>2020</td>\n",
       "      <td>Fire</td>\n",
       "      <td>2.785398e+08</td>\n",
       "    </tr>\n",
       "    <tr>\n",
       "      <th>28</th>\n",
       "      <td>2020</td>\n",
       "      <td>Medicine</td>\n",
       "      <td>4.886988e+07</td>\n",
       "    </tr>\n",
       "    <tr>\n",
       "      <th>29</th>\n",
       "      <td>2020</td>\n",
       "      <td>Police</td>\n",
       "      <td>3.510892e+08</td>\n",
       "    </tr>\n",
       "    <tr>\n",
       "      <th>30</th>\n",
       "      <td>2021</td>\n",
       "      <td>Police</td>\n",
       "      <td>3.427785e+08</td>\n",
       "    </tr>\n",
       "    <tr>\n",
       "      <th>31</th>\n",
       "      <td>2021</td>\n",
       "      <td>Fire</td>\n",
       "      <td>2.850197e+08</td>\n",
       "    </tr>\n",
       "    <tr>\n",
       "      <th>32</th>\n",
       "      <td>2021</td>\n",
       "      <td>Medicine</td>\n",
       "      <td>5.320593e+07</td>\n",
       "    </tr>\n",
       "  </tbody>\n",
       "</table>\n",
       "</div>"
      ],
      "text/plain": [
       "    Year       Dep  TotalPayBenefits\n",
       "0   2011      Fire      1.720387e+08\n",
       "1   2011  Medicine      2.692149e+07\n",
       "2   2011    Police      3.192681e+08\n",
       "3   2012      Fire      2.226816e+08\n",
       "4   2012  Medicine      3.183268e+07\n",
       "5   2012    Police      2.805306e+08\n",
       "6   2013      Fire      2.380130e+08\n",
       "7   2013  Medicine      3.378203e+07\n",
       "8   2013    Police      2.887283e+08\n",
       "9   2014      Fire      2.337893e+08\n",
       "10  2014  Medicine      3.613354e+07\n",
       "11  2014    Police      2.820115e+08\n",
       "12  2015      Fire      2.324931e+08\n",
       "13  2015  Medicine      3.802786e+07\n",
       "14  2015    Police      2.850442e+08\n",
       "15  2016      Fire      2.407845e+08\n",
       "16  2016  Medicine      4.257903e+07\n",
       "17  2016    Police      3.130896e+08\n",
       "18  2017      Fire      2.483007e+08\n",
       "19  2017  Medicine      4.481844e+07\n",
       "20  2017    Police      3.132742e+08\n",
       "21  2018      Fire      2.551662e+08\n",
       "22  2018  Medicine      4.708466e+07\n",
       "23  2018    Police      3.254865e+08\n",
       "24  2019      Fire      2.647841e+08\n",
       "25  2019  Medicine      4.742033e+07\n",
       "26  2019    Police      3.379489e+08\n",
       "27  2020      Fire      2.785398e+08\n",
       "28  2020  Medicine      4.886988e+07\n",
       "29  2020    Police      3.510892e+08\n",
       "30  2021    Police      3.427785e+08\n",
       "31  2021      Fire      2.850197e+08\n",
       "32  2021  Medicine      5.320593e+07"
      ]
     },
     "execution_count": 131,
     "metadata": {},
     "output_type": "execute_result"
    }
   ],
   "source": [
    "TotalPay_predict = df_TotalPay.copy()\n",
    "cont1 = {'Year':2021, 'Dep':'Police', 'TotalPayBenefits':lr_police.predict([[2021]])[0]}\n",
    "cont2 = {'Year':2021, 'Dep':'Fire', 'TotalPayBenefits':lr_fire.predict([[2021]])[0]}\n",
    "cont3 = {'Year':2021, 'Dep':'Medicine', 'TotalPayBenefits':lr_medic.predict([[2021]])[0]}\n",
    "TotalPay_predict = TotalPay_predict.append(cont1, ignore_index=True)\n",
    "TotalPay_predict = TotalPay_predict.append(cont2, ignore_index=True)\n",
    "TotalPay_predict = TotalPay_predict.append(cont3, ignore_index=True)\n",
    "TotalPay_predict\n"
   ]
  },
  {
   "cell_type": "markdown",
   "id": "4a24fbfe",
   "metadata": {},
   "source": [
    "Отображаем на графике"
   ]
  },
  {
   "cell_type": "code",
   "execution_count": 132,
   "id": "6960a70b",
   "metadata": {},
   "outputs": [
    {
     "data": {
      "image/png": "[encoded data removed]",
      "text/plain": [
       "<Figure size 656.875x288 with 1 Axes>"
      ]
     },
     "metadata": {
      "needs_background": "light"
     },
     "output_type": "display_data"
    }
   ],
   "source": [
    "sns.relplot(\n",
    "    x='Year', \n",
    "    y='TotalPayBenefits', \n",
    "    hue='Dep', \n",
    "    data=TotalPay_predict, \n",
    "    height=4, \n",
    "    aspect=2,\n",
    "    kind='line')\n",
    "plt.xlabel('Год')\n",
    "plt.ylabel('Общий бюджет')\n",
    "plt.locator_params(axis ='x', nbins = 11)\n",
    "plt.title('Прогноз бюджета на 2021 год', size=15, color='k');"
   ]
  },
  {
   "cell_type": "markdown",
   "id": "b441f7c7",
   "metadata": {},
   "source": [
    "# Выводы:"
   ]
  },
  {
   "attachments": {},
   "cell_type": "markdown",
   "id": "2d123544",
   "metadata": {},
   "source": [
    "1. \n",
    "Средний доход сотрудника по всем департаментам составил 152160\n",
    "2. \n",
    "Медианный доход сотрудника составил 162554.66\n",
    "3. \n",
    "Резкий рост медианы пришелся на 2012 год, время 3-его технологического бума в Сан-Франциско в основном связанные с началом эпохи Илона Маска. Произошли такие события как - 'к МКС пристыковался первый частный корабль Dragon компании SpaceX', 'Поставки автомобилей Tesla Motors', что повлекло массовое приглашение специалистов разных областей в разные сферы разработки, что и повлекло такой рост по нашим департаментам.\n",
    "4.\n",
    "Резкий рост максимальной зп у сотрудников Полиции наблюдается в 2018 году, это в основном связано с резким увеличением преступности в этот период\n",
    "5.\n",
    "2019 год, период начала пандемии Коронавируса, так как власти США обьявили локдаун и большинство сотрудников были переведены на удаленный режим работы, так же многие фирмы закрылись, у людей банально не хватало денег на дорогую медицинскую страховку, в связи с этим максимальное значение зп сотрудников медицины резко упало\n",
    "6.\n",
    "Выплаты за сверхурочные работы в департаменте медицины отсутствуют\n",
    "7.\n",
    "2011 году льгот не было совсем по всем департаментам.\n",
    "8.\n",
    "В 2012 можно надлюдать резкий спад по сравнению с 2011 количества полицейских дальше динамика ушла в боковик, однако несмотря на падение в 2012, департамент Полиции остался самым большим с точки зрения количества сотрудников, превышающий департамент медицины почти в 4 раза"
   ]
  }
 ],
 "metadata": {
  "kernelspec": {
   "display_name": "Python 3",
   "language": "python",
   "name": "python3"
  },
  "language_info": {
   "codemirror_mode": {
    "name": "ipython",
    "version": 3
   },
   "file_extension": ".py",
   "mimetype": "text/x-python",
   "name": "python",
   "nbconvert_exporter": "python",
   "pygments_lexer": "ipython3",
   "version": "3.8.8"
  }
 },
 "nbformat": 4,
 "nbformat_minor": 5
}
